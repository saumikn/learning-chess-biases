{
 "cells": [
  {
   "cell_type": "code",
   "execution_count": null,
   "metadata": {},
   "outputs": [],
   "source": [
    "import os\n",
    "import sys\n",
    "import csv\n",
    "import time\n",
    "import chess\n",
    "import chess.engine\n",
    "import requests\n",
    "import json\n",
    "from dotenv import load_dotenv\n",
    "from subprocess import Popen, PIPE, DEVNULL\n",
    "from tqdm import tqdm"
   ]
  },
  {
   "cell_type": "code",
   "execution_count": null,
   "metadata": {},
   "outputs": [],
   "source": [
    "# Constants\n",
    "stockfish_exe = \"/Users/saumik/Documents/classes/rotations/code/Stockfish/src/stockfish\"\n",
    "engine = chess.engine.SimpleEngine.popen_uci(stockfish_exe)\n",
    "depth = 20\n",
    "load_dotenv()   \n",
    "token = os.getenv('LICHESS_TOKEN')"
   ]
  },
  {
   "cell_type": "code",
   "execution_count": null,
   "metadata": {},
   "outputs": [],
   "source": [
    "def get_fens(player, max_games='null', token=None):\n",
    "    headers = {'Accept':'application/x-ndjson'}\n",
    "    if token:\n",
    "        headers['Authorization'] = f'Bearer {token}'\n",
    "    params = {'max':max_games, 'perfType':'blitz'}\n",
    "    response = requests.get(f\"https://lichess.org/api/games/user/{player}\", headers=headers, params=params)\n",
    "    with open(f'data/{player}.csv', 'w') as f:\n",
    "        for line in response.iter_lines():\n",
    "            line = json.loads(line.decode('utf-8'))\n",
    "            if line['variant'] == 'standard' and 'moves' in line:\n",
    "                try:\n",
    "                    color = 'w' if line['players']['white']['user']['name'] == player else 'b'\n",
    "                except:\n",
    "                    continue\n",
    "                moves = line['moves'].split()\n",
    "                board = chess.Board()\n",
    "                for san in moves:\n",
    "                    uci = board.parse_san(san).uci()\n",
    "                    fen = board.fen()\n",
    "                    movenum = int(fen.split()[5])\n",
    "                    if fen.split()[1] == color and movenum >= 10 and movenum < 30:\n",
    "                        print(f'{uci},{fen}', file=f)\n",
    "                    board.push_uci(uci)"
   ]
  },
  {
   "cell_type": "code",
   "execution_count": null,
   "metadata": {},
   "outputs": [],
   "source": [
    "players_to_download = ['Konevlad','Crecent','LongLive16Hayastan','may6enexttime','IWANNABEADOORED',\n",
    "                       'Ogrilla','dolar9','MilfSalvatore','cutemouse83','Benefactorr',\n",
    "                       'cjota95','alireza2003','vistagausta','GRUrussia','Drvitman',\n",
    "                       'NIndja64','KnezMihailova','Bestinblitz','AnonLondonKiller','black_knight22',\n",
    "                       'IVK88','Inventing_Invention','temp006','Arka50','Ernst_Gruenfeld',\n",
    "                       'Zaola420','GeorgMeier','SindarovGM','BenjaminBokTwitch','Hungry_Dragon',\n",
    "                       'avantage_ru','Chesstoday','GABUZYAN_CHESSMOOD','Tryhard00','TilChess',\n",
    "                       'muisback','MikeGScarn','Zhalmakhanov_R','L04d1ng','BabaRamdev',\n",
    "                       'opperwezen','Feokl1995','LucaBrazzi','Venost17','RebeccaHarris',\n",
    "                       'gmmoranda','YuQuesada','FakeBruceLee','swimmerchess','GrigorGrigorov']"
   ]
  },
  {
   "cell_type": "code",
   "execution_count": null,
   "metadata": {},
   "outputs": [],
   "source": [
    "# for p in tqdm(players_to_download):\n",
    "#     get_fens(p, max_games=100, token=token)"
   ]
  },
  {
   "cell_type": "code",
   "execution_count": null,
   "metadata": {},
   "outputs": [],
   "source": [
    "def clean_score(score):\n",
    "    score = round(float(score),2)\n",
    "    score = 2.0 if score > 2 else score\n",
    "    score = -2.0 if score < -2 else score\n",
    "    return score\n",
    "\n",
    "def evaluate(fen, next_move=None):\n",
    "    process = Popen(stockfish_exe, shell=True, stdin=PIPE, stdout=PIPE, stderr=DEVNULL)\n",
    "    if next_move:\n",
    "        output = process.communicate(input=str.encode(f\"position fen {fen} moves {next_move}\\neval\\n\"))[0]\n",
    "    else:\n",
    "        output = process.communicate(input=str.encode(f\"position fen {fen}\\neval\\n\"))[0]\n",
    "    if process.returncode != 0:\n",
    "        sys.stderr.write(f\"Failed: {stockfish_exe}\\n\")\n",
    "        sys.exit(1)\n",
    "\n",
    "    # parse for parameter output\n",
    "    components = ['Material','Imbalance','Mobility','King safety','Threats','Passed','Space','Winnable']\n",
    "    scores = []\n",
    "    for line in output.decode(\"utf-8\").split(\"\\n\"):\n",
    "        if any(c in line for c in components):\n",
    "            mg_score = line.split('|')[3].split()[0]\n",
    "            mg_score = clean_score(mg_score)\n",
    "            scores.append(mg_score)\n",
    "    return tuple(scores)"
   ]
  },
  {
   "cell_type": "code",
   "execution_count": null,
   "metadata": {},
   "outputs": [],
   "source": [
    "# Unused at the moment\n",
    "def get_next_states(fen):\n",
    "    board = chess.Board(fen)\n",
    "    moves = [move.uci() for move in board.legal_moves]\n",
    "    states = set()\n",
    "    for move in tqdm(moves):\n",
    "        scores = evaluate(fen, move)\n",
    "        if scores != ():\n",
    "            states.add(scores)\n",
    "    return states"
   ]
  },
  {
   "cell_type": "code",
   "execution_count": null,
   "metadata": {},
   "outputs": [],
   "source": [
    "def get_best_move(fen):\n",
    "#     print(fen)\n",
    "    board = chess.Board(fen=fen)\n",
    "    info = engine.analyse(board, chess.engine.Limit(depth=20))\n",
    "    return info['pv'][0]"
   ]
  },
  {
   "cell_type": "code",
   "execution_count": null,
   "metadata": {},
   "outputs": [],
   "source": [
    "def rm_paren(tup):\n",
    "    if tup == ():\n",
    "        return ',,,,,,,'\n",
    "    return ','.join(str(i) for i in tup)"
   ]
  },
  {
   "cell_type": "code",
   "execution_count": null,
   "metadata": {},
   "outputs": [],
   "source": [
    "def get_avg_bias(player):    \n",
    "    num_lines = sum(1 for line in open(f'data/{player}.csv','r'))\n",
    "    with open(f'data/{player}.csv', 'r') as f:\n",
    "        with open(f'diffs/{player}.csv','w') as fw:\n",
    "            csv_reader = csv.reader(f, delimiter=',')\n",
    "#             count = 0\n",
    "            for uci,fen in tqdm(csv_reader, total=num_lines):\n",
    "#                 if count >= 10:\n",
    "#                     break\n",
    "                current_eval = evaluate(fen)\n",
    "                played_eval = evaluate(fen, uci)\n",
    "                best = get_best_move(fen)\n",
    "                best_eval = played_eval if str(best) == str(uci) else evaluate(fen, best)\n",
    "                print(f'{fen},{rm_paren(current_eval)},{uci},{rm_paren(played_eval)},{best},{rm_paren(best_eval)}', file=fw)\n",
    "#                 count+=1"
   ]
  },
  {
   "cell_type": "code",
   "execution_count": null,
   "metadata": {},
   "outputs": [],
   "source": [
    "# for p in players_to_download:\n",
    "#     print(f'Starting {p}')\n",
    "#     time.sleep(1)\n",
    "#     get_avg_bias(p)\n",
    "#     time.sleep(1)"
   ]
  }
 ],
 "metadata": {
  "kernelspec": {
   "display_name": "Python 3",
   "language": "python",
   "name": "python3"
  },
  "language_info": {
   "codemirror_mode": {
    "name": "ipython",
    "version": 3
   },
   "file_extension": ".py",
   "mimetype": "text/x-python",
   "name": "python",
   "nbconvert_exporter": "python",
   "pygments_lexer": "ipython3",
   "version": "3.8.3"
  }
 },
 "nbformat": 4,
 "nbformat_minor": 4
}

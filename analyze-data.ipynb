{
 "cells": [
  {
   "cell_type": "code",
   "execution_count": 20,
   "metadata": {},
   "outputs": [],
   "source": [
    "import pandas as pd\n",
    "import numpy as np\n",
    "import os\n",
    "\n",
    "from sklearn.preprocessing import StandardScaler\n",
    "from sklearn.decomposition import PCA\n",
    "\n",
    "from sklearn.ensemble import RandomForestClassifier\n",
    "from sklearn.linear_model import LogisticRegression\n",
    "from sklearn.neighbors import KNeighborsClassifier\n",
    "from sklearn.model_selection import cross_val_score"
   ]
  },
  {
   "cell_type": "code",
   "execution_count": 2,
   "metadata": {},
   "outputs": [],
   "source": [
    "players = ['Konevlad','Crecent','LongLive16Hayastan','may6enexttime','IWANNABEADOORED',\n",
    "           'Ogrilla','dolar9','MilfSalvatore','cutemouse83','Benefactorr',\n",
    "           'cjota95','alireza2003','vistagausta','GRUrussia','Drvitman',\n",
    "           'NIndja64','KnezMihailova','Bestinblitz','AnonLondonKiller','black_knight22',\n",
    "           'IVK88','Inventing_Invention','temp006','Arka50','Ernst_Gruenfeld',\n",
    "           'Zaola420','GeorgMeier','SindarovGM','BenjaminBokTwitch','Hungry_Dragon',\n",
    "           'avantage_ru','Chesstoday','GABUZYAN_CHESSMOOD','Tryhard00','TilChess',\n",
    "           'muisback','MikeGScarn','Zhalmakhanov_R','L04d1ng','BabaRamdev',\n",
    "           'opperwezen','Feokl1995','LucaBrazzi','Venost17','RebeccaHarris',\n",
    "           'gmmoranda','YuQuesada','FakeBruceLee','swimmerchess','GrigorGrigorov']\n",
    "\n",
    "elen = 8\n",
    "cur_pos_cols = [f'c{i}' for i in range(elen)]\n",
    "player_move_cols = [f'p{i}' for i in range(elen)]\n",
    "optimal_move_cols = [f'o{i}' for i in range(elen)]\n",
    "numeric_cols = cur_pos_cols + player_move_cols + optimal_move_cols\n",
    "diff_cols = ['cur_pos'] + cur_pos_cols + ['player_move'] + player_move_cols + ['optimal_move'] + optimal_move_cols"
   ]
  },
  {
   "cell_type": "code",
   "execution_count": 3,
   "metadata": {},
   "outputs": [],
   "source": [
    "def get_player_df(file_path, names):\n",
    "    df = pd.read_csv(file_path, names=names, index_col=False)\n",
    "    df['color'] = df['cur_pos'].apply(lambda x: x.split()[1])\n",
    "    df = df.drop('cur_pos', axis=1)\n",
    "#     df.loc[df['color'] == 'b',cols] = df*-1\n",
    "#     df = df.drop('color', axis=1)\n",
    "    df['player'] = os.path.basename(file_path).split('.')[0]\n",
    "    return df\n",
    "\n",
    "def get_all_df(players):\n",
    "    ans = [get_player_df(f'diffs/{i}.csv', diff_cols) for i in players]\n",
    "    return pd.concat(ans).reset_index(drop=True)\n",
    "\n",
    "def get_diff_df(all_df, cols1, cols2):\n",
    "    diff_df = all_df[cols1] - all_df[cols2].values\n",
    "    diff_df['player'] = all_df['player']\n",
    "    return diff_df"
   ]
  },
  {
   "cell_type": "code",
   "execution_count": 4,
   "metadata": {},
   "outputs": [],
   "source": [
    "all_df = get_all_df(players).dropna()\n",
    "\n",
    "player_change_df = get_diff_df(all_df, player_move_cols, cur_pos_cols)\n",
    "optimal_change_df = get_diff_df(all_df, optimal_move_cols, cur_pos_cols)\n",
    "player_bias_df = get_diff_df(all_df, player_move_cols, optimal_move_cols)"
   ]
  },
  {
   "cell_type": "code",
   "execution_count": 5,
   "metadata": {},
   "outputs": [],
   "source": [
    "X1 = player_change_df.drop(columns=['player'])\n",
    "X2 = optimal_change_df.drop(columns=['player'])\n",
    "X3 = player_bias_df.drop(columns=['player'])\n",
    "y = player_change_df['player']"
   ]
  },
  {
   "cell_type": "code",
   "execution_count": 6,
   "metadata": {},
   "outputs": [],
   "source": [
    "player_change_mean_df = player_change_df.groupby(['player']).mean()\n",
    "optimal_change_df = optimal_change_df.groupby(['player']).mean()\n",
    "player_bias_df = player_bias_df.groupby(['player']).mean()"
   ]
  },
  {
   "cell_type": "code",
   "execution_count": null,
   "metadata": {},
   "outputs": [],
   "source": []
  },
  {
   "cell_type": "code",
   "execution_count": 14,
   "metadata": {},
   "outputs": [
    {
     "name": "stdout",
     "output_type": "stream",
     "text": [
      "CPU times: user 1min 25s, sys: 18.9 s, total: 1min 44s\n",
      "Wall time: 1min 47s\n"
     ]
    }
   ],
   "source": [
    "%%time\n",
    "clf = RandomForestClassifier()\n",
    "scores1 = cross_val_score(clf, X1, y)"
   ]
  },
  {
   "cell_type": "code",
   "execution_count": 15,
   "metadata": {},
   "outputs": [
    {
     "name": "stdout",
     "output_type": "stream",
     "text": [
      "CPU times: user 1min 22s, sys: 17.6 s, total: 1min 39s\n",
      "Wall time: 1min 42s\n"
     ]
    }
   ],
   "source": [
    "%%time\n",
    "clf = RandomForestClassifier()\n",
    "scores2 = cross_val_score(clf, X2, y)"
   ]
  },
  {
   "cell_type": "code",
   "execution_count": 16,
   "metadata": {
    "scrolled": true
   },
   "outputs": [
    {
     "name": "stdout",
     "output_type": "stream",
     "text": [
      "CPU times: user 57.2 s, sys: 7.66 s, total: 1min 4s\n",
      "Wall time: 1min 5s\n"
     ]
    }
   ],
   "source": [
    "%%time\n",
    "clf = RandomForestClassifier()\n",
    "scores3 = cross_val_score(clf, X3, y)"
   ]
  },
  {
   "cell_type": "code",
   "execution_count": null,
   "metadata": {},
   "outputs": [],
   "source": []
  },
  {
   "cell_type": "code",
   "execution_count": 17,
   "metadata": {},
   "outputs": [
    {
     "name": "stdout",
     "output_type": "stream",
     "text": [
      "CPU times: user 4min 12s, sys: 10.9 s, total: 4min 23s\n",
      "Wall time: 51.7 s\n"
     ]
    }
   ],
   "source": [
    "%%time\n",
    "clf = LogisticRegression()\n",
    "scores4 = cross_val_score(clf, X1, y)"
   ]
  },
  {
   "cell_type": "code",
   "execution_count": 18,
   "metadata": {},
   "outputs": [
    {
     "name": "stdout",
     "output_type": "stream",
     "text": [
      "CPU times: user 4min 24s, sys: 10.6 s, total: 4min 35s\n",
      "Wall time: 52.8 s\n"
     ]
    }
   ],
   "source": [
    "%%time\n",
    "clf = LogisticRegression()\n",
    "scores5 = cross_val_score(clf, X2, y)"
   ]
  },
  {
   "cell_type": "code",
   "execution_count": 19,
   "metadata": {},
   "outputs": [
    {
     "name": "stdout",
     "output_type": "stream",
     "text": [
      "CPU times: user 4min 35s, sys: 9.27 s, total: 4min 44s\n",
      "Wall time: 49.5 s\n"
     ]
    }
   ],
   "source": [
    "%%time\n",
    "clf = LogisticRegression()\n",
    "scores6 = cross_val_score(clf, X3, y)"
   ]
  },
  {
   "cell_type": "code",
   "execution_count": null,
   "metadata": {},
   "outputs": [],
   "source": []
  },
  {
   "cell_type": "code",
   "execution_count": 21,
   "metadata": {},
   "outputs": [
    {
     "name": "stdout",
     "output_type": "stream",
     "text": [
      "CPU times: user 6.09 s, sys: 63 ms, total: 6.15 s\n",
      "Wall time: 6.25 s\n"
     ]
    }
   ],
   "source": [
    "%%time\n",
    "clf = KNeighborsClassifier()\n",
    "scores7 = cross_val_score(clf, X1, y)"
   ]
  },
  {
   "cell_type": "code",
   "execution_count": 22,
   "metadata": {},
   "outputs": [
    {
     "name": "stdout",
     "output_type": "stream",
     "text": [
      "CPU times: user 5.64 s, sys: 43.3 ms, total: 5.68 s\n",
      "Wall time: 5.74 s\n"
     ]
    }
   ],
   "source": [
    "%%time\n",
    "clf = KNeighborsClassifier()\n",
    "scores8 = cross_val_score(clf, X1, y)"
   ]
  },
  {
   "cell_type": "code",
   "execution_count": 23,
   "metadata": {},
   "outputs": [
    {
     "name": "stdout",
     "output_type": "stream",
     "text": [
      "CPU times: user 29.4 s, sys: 192 ms, total: 29.6 s\n",
      "Wall time: 29.8 s\n"
     ]
    }
   ],
   "source": [
    "%%time\n",
    "clf = KNeighborsClassifier()\n",
    "scores9 = cross_val_score(clf, X3, y)"
   ]
  },
  {
   "cell_type": "code",
   "execution_count": 36,
   "metadata": {},
   "outputs": [
    {
     "name": "stdout",
     "output_type": "stream",
     "text": [
      "Baseline Accuracy: 0.020\n",
      "\n",
      "Random Forest\n",
      "0.031 - Player Change\n",
      "0.029 - Optimal Change\n",
      "0.024 - Player Bias\n",
      "\n",
      "Logistic Regression\n",
      "0.023 - Player Change\n",
      "0.022 - Optimal Change\n",
      "0.022 - Player Bias\n",
      "\n",
      "KNN\n",
      "0.026 - Player Change\n",
      "0.026 - Optimal Change\n",
      "0.020 - Player Bias\n"
     ]
    }
   ],
   "source": [
    "print('Baseline Accuracy: 0.020', end='\\n\\n')\n",
    "\n",
    "print('Random Forest')\n",
    "print(f'{scores1.mean():.3f} - Player Change')\n",
    "print(f'{scores2.mean():.3f} - Optimal Change')\n",
    "print(f'{scores3.mean():.3f} - Player Bias')\n",
    "print()\n",
    "\n",
    "print('Logistic Regression')\n",
    "print(f'{scores4.mean():.3f} - Player Change')\n",
    "print(f'{scores5.mean():.3f} - Optimal Change')\n",
    "print(f'{scores6.mean():.3f} - Player Bias')\n",
    "print()\n",
    "\n",
    "print('KNN')\n",
    "print(f'{scores7.mean():.3f} - Player Change')\n",
    "print(f'{scores8.mean():.3f} - Optimal Change')\n",
    "print(f'{scores9.mean():.3f} - Player Bias')"
   ]
  },
  {
   "cell_type": "code",
   "execution_count": null,
   "metadata": {},
   "outputs": [],
   "source": []
  },
  {
   "cell_type": "code",
   "execution_count": null,
   "metadata": {},
   "outputs": [],
   "source": []
  },
  {
   "cell_type": "code",
   "execution_count": 13,
   "metadata": {},
   "outputs": [
    {
     "name": "stdout",
     "output_type": "stream",
     "text": [
      "[0.47550376 0.30991861]\n"
     ]
    },
    {
     "data": {
      "text/plain": [
       "<matplotlib.axes._subplots.AxesSubplot at 0x7fbc66fc81c0>"
      ]
     },
     "execution_count": 13,
     "metadata": {},
     "output_type": "execute_result"
    },
    {
     "data": {
      "image/png": "[encoded data removed]",
      "text/plain": [
       "<Figure size 432x288 with 1 Axes>"
      ]
     },
     "metadata": {
      "needs_background": "light"
     },
     "output_type": "display_data"
    }
   ],
   "source": [
    "player_bias_mean = player_bias_df.groupby(['player']).mean()\n",
    "pca = PCA(n_components=2).fit(player_bias_mean)\n",
    "pca_df = pd.DataFrame(data=pca.transform(player_bias_mean), columns = ['pc1','pc2'])\n",
    "print(pca.explained_variance_ratio_)\n",
    "pca_df.plot.scatter(x='pc1',y='pc2')"
   ]
  },
  {
   "cell_type": "code",
   "execution_count": null,
   "metadata": {},
   "outputs": [],
   "source": []
  }
 ],
 "metadata": {
  "kernelspec": {
   "display_name": "Python 3",
   "language": "python",
   "name": "python3"
  },
  "language_info": {
   "codemirror_mode": {
    "name": "ipython",
    "version": 3
   },
   "file_extension": ".py",
   "mimetype": "text/x-python",
   "name": "python",
   "nbconvert_exporter": "python",
   "pygments_lexer": "ipython3",
   "version": "3.8.3"
  }
 },
 "nbformat": 4,
 "nbformat_minor": 4
}

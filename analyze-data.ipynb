{
 "cells": [
  {
   "cell_type": "code",
   "execution_count": 1,
   "metadata": {},
   "outputs": [],
   "source": [
    "import pandas as pd\n",
    "import numpy as np\n",
    "from tqdm.notebook import tqdm\n",
    "import os\n",
    "\n",
    "import chess\n",
    "\n",
    "from sklearn.preprocessing import StandardScaler\n",
    "from sklearn.decomposition import PCA\n",
    "from sklearn.cluster import KMeans\n",
    "\n",
    "from sklearn.ensemble import RandomForestClassifier\n",
    "from sklearn.linear_model import LogisticRegression\n",
    "from sklearn.neighbors import KNeighborsClassifier\n",
    "from sklearn.model_selection import cross_val_score"
   ]
  },
  {
   "cell_type": "code",
   "execution_count": 2,
   "metadata": {
    "scrolled": true
   },
   "outputs": [
    {
     "name": "stderr",
     "output_type": "stream",
     "text": [
      "/usr/local/anaconda3/lib/python3.8/site-packages/tqdm/std.py:668: FutureWarning: The Panel class is removed from pandas. Accessing it from the top-level namespace will also be removed in the next version\n",
      "  from pandas import Panel\n"
     ]
    }
   ],
   "source": [
    "tqdm.pandas()"
   ]
  },
  {
   "cell_type": "code",
   "execution_count": 3,
   "metadata": {},
   "outputs": [],
   "source": [
    "players = ['Konevlad','Crecent','LongLive16Hayastan','may6enexttime','IWANNABEADOORED',\n",
    "           'Ogrilla','dolar9','MilfSalvatore','cutemouse83','Benefactorr',\n",
    "           'cjota95','alireza2003','vistagausta','GRUrussia','Drvitman',\n",
    "           'NIndja64','KnezMihailova','Bestinblitz','AnonLondonKiller','black_knight22',\n",
    "           'IVK88','Inventing_Invention','temp006','Arka50','Ernst_Gruenfeld',\n",
    "           'Zaola420','GeorgMeier','SindarovGM','BenjaminBokTwitch','Hungry_Dragon',\n",
    "           'avantage_ru','Chesstoday','GABUZYAN_CHESSMOOD','Tryhard00','TilChess',\n",
    "           'muisback','MikeGScarn','Zhalmakhanov_R','L04d1ng','BabaRamdev',\n",
    "           'opperwezen','Feokl1995','LucaBrazzi','Venost17','RebeccaHarris',\n",
    "           'gmmoranda','YuQuesada','FakeBruceLee','swimmerchess','GrigorGrigorov']\n",
    "\n",
    "elen = 8\n",
    "cur_cols = [f'c{i}' for i in range(elen)]\n",
    "player_cols = [f'p{i}' for i in range(elen)]\n",
    "optimal_cols = [f'o{i}' for i in range(elen)]\n",
    "numeric_cols = cur_cols + player_cols + optimal_cols\n",
    "diff_cols = ['cur_pos'] + cur_cols + ['player_uci'] + player_cols + ['optimal_uci'] + optimal_cols"
   ]
  },
  {
   "cell_type": "code",
   "execution_count": 23,
   "metadata": {},
   "outputs": [],
   "source": [
    "def get_player_df(file_path, names):\n",
    "    df = pd.read_csv(file_path, names=names, index_col=False)\n",
    "    df['color'] = df['cur_pos'].apply(lambda x: x.split()[1])\n",
    "#     df = df.drop('cur_pos', axis=1)\n",
    "#     df.loc[df['color'] == 'b',cols] = df*-1\n",
    "#     df = df.drop('color', axis=1)\n",
    "    df['player'] = os.path.basename(file_path).split('.')[0]\n",
    "    return df\n",
    "\n",
    "def get_all_df(players):\n",
    "    ans = [get_player_df(f'diffs/{i}.csv', diff_cols) for i in players]\n",
    "    ans = pd.concat(ans).reset_index(drop=True)\n",
    "    return ans\n",
    "\n",
    "def get_diff_df(all_df, cols1, cols2):\n",
    "    diff_df = all_df[cols1] - all_df[cols2].values\n",
    "#     diff_df['player'] = all_df['player']\n",
    "    return diff_df\n",
    "\n",
    "def get_dummies(all_df, col1, col2=None):\n",
    "    if col2:\n",
    "        return pd.get_dummies(all_df[col1], dtype=int) - pd.get_dummies(all_df[col2], dtype=int)\n",
    "    return pd.get_dummies(all_df[col1], dtype=int)"
   ]
  },
  {
   "cell_type": "code",
   "execution_count": 24,
   "metadata": {},
   "outputs": [],
   "source": [
    "def san_to_piece(san):\n",
    "    if san[0]=='K':\n",
    "        return 'king'\n",
    "    if san[0]=='Q':\n",
    "        return 'queen'\n",
    "    if san[0]=='B':\n",
    "        return 'bishop'\n",
    "    if san[0]=='N':\n",
    "        return 'knight'\n",
    "    if san[0]=='R':\n",
    "        return 'rook'\n",
    "    return 'pawn'\n",
    "\n",
    "def get_piece(row):\n",
    "    board = chess.Board(row['cur_pos'])\n",
    "    player_san = board.san(chess.Move.from_uci(row['player_uci']))\n",
    "    optimal_san = board.san(chess.Move.from_uci(row['optimal_uci']))\n",
    "    row['player_piece'] = san_to_piece(player_san)\n",
    "    row['optimal_piece'] = san_to_piece(optimal_san)\n",
    "    return row"
   ]
  },
  {
   "cell_type": "code",
   "execution_count": 7,
   "metadata": {},
   "outputs": [
    {
     "data": {
      "application/vnd.jupyter.widget-view+json": {
       "model_id": "46e22538cdeb48b7919a1a016744f5ef",
       "version_major": 2,
       "version_minor": 0
      },
      "text/plain": [
       "HBox(children=(FloatProgress(value=0.0, max=80981.0), HTML(value='')))"
      ]
     },
     "metadata": {},
     "output_type": "display_data"
    },
    {
     "name": "stdout",
     "output_type": "stream",
     "text": [
      "\n"
     ]
    }
   ],
   "source": [
    "all_df = get_all_df(players).dropna().reset_index(drop=True)\n",
    "all_df = all_df.progress_apply(get_piece, axis=1)"
   ]
  },
  {
   "cell_type": "code",
   "execution_count": 67,
   "metadata": {},
   "outputs": [],
   "source": [
    "cur_pos = all_df[cur_cols]\n",
    "y = all_df['player']\n",
    "player_dummies = get_dummies(all_df,'player_piece')\n",
    "optimal_dummies = get_dummies(all_df,'optimal_piece')\n",
    "bias_dummies = get_dummies(all_df,'player_piece','optimal_piece')\n",
    "\n",
    "player_df1 = get_diff_df(all_df, player_cols, cur_cols)\n",
    "player_df2 = pd.concat([player_df1, player_dummies], axis=1)\n",
    "player_df3 = pd.concat([player_df1, cur_pos], axis=1)\n",
    "player_df4 = pd.concat([player_df1, player_dummies, cur_pos], axis=1)\n",
    "\n",
    "optimal_df1 = get_diff_df(all_df, optimal_cols, cur_cols)\n",
    "optimal_df2 = pd.concat([optimal_df1, optimal_dummies], axis=1)\n",
    "optimal_df3 = pd.concat([optimal_df1, cur_pos], axis=1)\n",
    "optimal_df4 = pd.concat([optimal_df1, optimal_dummies, cur_pos], axis=1)\n",
    "\n",
    "bias_df1 = get_diff_df(all_df, player_cols, optimal_cols)\n",
    "bias_df2 = pd.concat([bias_df1, bias_dummies], axis=1)\n",
    "bias_df3 = pd.concat([bias_df1, cur_pos], axis=1)\n",
    "bias_df4 = pd.concat([bias_df1, bias_dummies, cur_pos], axis=1)"
   ]
  },
  {
   "cell_type": "code",
   "execution_count": null,
   "metadata": {},
   "outputs": [],
   "source": []
  },
  {
   "cell_type": "code",
   "execution_count": 68,
   "metadata": {},
   "outputs": [],
   "source": [
    "X1 = player_df1\n",
    "X2 = optimal_df1\n",
    "X3 = bias_df1\n",
    "\n",
    "scores1_1 = cross_val_score(RandomForestClassifier(), X1, y)\n",
    "scores1_2 = cross_val_score(RandomForestClassifier(), X2, y)\n",
    "scores1_3 = cross_val_score(RandomForestClassifier(), X3, y)"
   ]
  },
  {
   "cell_type": "code",
   "execution_count": 69,
   "metadata": {},
   "outputs": [],
   "source": [
    "X1 = player_df2\n",
    "X2 = optimal_df2\n",
    "X3 = bias_df2\n",
    "\n",
    "scores2_1 = cross_val_score(RandomForestClassifier(), X1, y)\n",
    "scores2_2 = cross_val_score(RandomForestClassifier(), X2, y)\n",
    "scores2_3 = cross_val_score(RandomForestClassifier(), X3, y)"
   ]
  },
  {
   "cell_type": "code",
   "execution_count": 70,
   "metadata": {},
   "outputs": [],
   "source": [
    "X1 = player_df3\n",
    "X2 = optimal_df3\n",
    "X3 = bias_df3\n",
    "\n",
    "scores3_1 = cross_val_score(RandomForestClassifier(), X1, y)\n",
    "scores3_2 = cross_val_score(RandomForestClassifier(), X2, y)\n",
    "scores3_3 = cross_val_score(RandomForestClassifier(), X3, y)"
   ]
  },
  {
   "cell_type": "code",
   "execution_count": 71,
   "metadata": {},
   "outputs": [],
   "source": [
    "X1 = player_df4\n",
    "X2 = optimal_df4\n",
    "X3 = bias_df4\n",
    "\n",
    "scores4_1 = cross_val_score(RandomForestClassifier(), X1, y)\n",
    "scores4_2 = cross_val_score(RandomForestClassifier(), X2, y)\n",
    "scores4_3 = cross_val_score(RandomForestClassifier(), X3, y)"
   ]
  },
  {
   "cell_type": "code",
   "execution_count": 72,
   "metadata": {},
   "outputs": [
    {
     "name": "stdout",
     "output_type": "stream",
     "text": [
      "Baseline Accuracy: 0.020\n",
      "\n",
      "Move Vector Only\n",
      "0.031 - Player Change\n",
      "0.029 - Optimal Change\n",
      "0.024 - Player Bias\n",
      "Move Vector and Piece Moved\n",
      "0.032 - Player Change\n",
      "0.031 - Optimal Change\n",
      "0.023 - Player Bias\n",
      "Move Vector and Inital Position\n",
      "0.038 - Player Change\n",
      "0.036 - Optimal Change\n",
      "0.033 - Player Bias\n",
      "Move Vector, Piece Moved, and Initial Position\n",
      "0.037 - Player Change\n",
      "0.035 - Optimal Change\n",
      "0.034 - Player Bias\n"
     ]
    }
   ],
   "source": [
    "print('Baseline Accuracy: 0.020', end='\\n\\n')\n",
    "\n",
    "print('Move Vector Only')\n",
    "print(f'{scores1_1.mean():.3f} - Player Change')\n",
    "print(f'{scores1_2.mean():.3f} - Optimal Change')\n",
    "print(f'{scores1_3.mean():.3f} - Player Bias')\n",
    "\n",
    "print('Move Vector and Piece Moved')\n",
    "print(f'{scores2_1.mean():.3f} - Player Change')\n",
    "print(f'{scores2_2.mean():.3f} - Optimal Change')\n",
    "print(f'{scores2_3.mean():.3f} - Player Bias')\n",
    "\n",
    "print('Move Vector and Inital Position')\n",
    "print(f'{scores3_1.mean():.3f} - Player Change')\n",
    "print(f'{scores3_2.mean():.3f} - Optimal Change')\n",
    "print(f'{scores3_3.mean():.3f} - Player Bias')\n",
    "\n",
    "print('Move Vector, Piece Moved, and Initial Position')\n",
    "print(f'{scores4_1.mean():.3f} - Player Change')\n",
    "print(f'{scores4_2.mean():.3f} - Optimal Change')\n",
    "print(f'{scores4_3.mean():.3f} - Player Bias')"
   ]
  },
  {
   "cell_type": "code",
   "execution_count": null,
   "metadata": {},
   "outputs": [],
   "source": []
  },
  {
   "cell_type": "code",
   "execution_count": 73,
   "metadata": {},
   "outputs": [],
   "source": [
    "def get_kmeans_classes(df, y):\n",
    "    means_df = pd.concat([df,y],axis=1).groupby('player').mean()\n",
    "    kmeans = KMeans(n_clusters=2).fit(means_df)\n",
    "    d = dict(zip(means_df.index, kmeans.labels_))\n",
    "    return y.map(d)"
   ]
  },
  {
   "cell_type": "code",
   "execution_count": 74,
   "metadata": {},
   "outputs": [],
   "source": [
    "X1 = player_df1\n",
    "X2 = optimal_df1\n",
    "X3 = bias_df1\n",
    "\n",
    "y1 = get_kmeans_classes(player_df1,y)\n",
    "y2 = get_kmeans_classes(optimal_df1,y)\n",
    "y3 = get_kmeans_classes(bias_df1,y)\n",
    "\n",
    "scores5_1 = cross_val_score(RandomForestClassifier(), X1, y1)\n",
    "scores5_2 = cross_val_score(RandomForestClassifier(), X2, y2)\n",
    "scores5_3 = cross_val_score(RandomForestClassifier(), X3, y3)"
   ]
  },
  {
   "cell_type": "code",
   "execution_count": 75,
   "metadata": {},
   "outputs": [],
   "source": [
    "X1 = player_df2\n",
    "X2 = optimal_df2\n",
    "X3 = bias_df2\n",
    "\n",
    "y1 = get_kmeans_classes(player_df2,y)\n",
    "y2 = get_kmeans_classes(optimal_df2,y)\n",
    "y3 = get_kmeans_classes(bias_df2,y)\n",
    "\n",
    "scores6_1 = cross_val_score(RandomForestClassifier(), X1, y1)\n",
    "scores6_2 = cross_val_score(RandomForestClassifier(), X2, y2)\n",
    "scores6_3 = cross_val_score(RandomForestClassifier(), X3, y3)"
   ]
  },
  {
   "cell_type": "code",
   "execution_count": 76,
   "metadata": {},
   "outputs": [],
   "source": [
    "X1 = player_df3\n",
    "X2 = optimal_df3\n",
    "X3 = bias_df3\n",
    "\n",
    "y1 = get_kmeans_classes(player_df3,y)\n",
    "y2 = get_kmeans_classes(optimal_df3,y)\n",
    "y3 = get_kmeans_classes(bias_df3,y)\n",
    "\n",
    "scores7_1 = cross_val_score(RandomForestClassifier(), X1, y1)\n",
    "scores7_2 = cross_val_score(RandomForestClassifier(), X2, y2)\n",
    "scores7_3 = cross_val_score(RandomForestClassifier(), X3, y3)"
   ]
  },
  {
   "cell_type": "code",
   "execution_count": 77,
   "metadata": {},
   "outputs": [],
   "source": [
    "X1 = player_df4\n",
    "X2 = optimal_df4\n",
    "X3 = bias_df4\n",
    "\n",
    "y1 = get_kmeans_classes(player_df4,y)\n",
    "y2 = get_kmeans_classes(optimal_df4,y)\n",
    "y3 = get_kmeans_classes(bias_df4,y)\n",
    "\n",
    "scores8_1 = cross_val_score(RandomForestClassifier(), X1, y1)\n",
    "scores8_2 = cross_val_score(RandomForestClassifier(), X2, y2)\n",
    "scores8_3 = cross_val_score(RandomForestClassifier(), X3, y3)"
   ]
  },
  {
   "cell_type": "code",
   "execution_count": 78,
   "metadata": {},
   "outputs": [
    {
     "name": "stdout",
     "output_type": "stream",
     "text": [
      "Baseline Accuracy: 0.500\n",
      "\n",
      "Move Vector Only\n",
      "0.612 - Player Change\n",
      "0.604 - Optimal Change\n",
      "0.540 - Player Bias\n",
      "Move Vector and Piece Moved\n",
      "0.612 - Player Change\n",
      "0.630 - Optimal Change\n",
      "0.642 - Player Bias\n",
      "Move Vector and Inital Position\n",
      "0.600 - Player Change\n",
      "0.601 - Optimal Change\n",
      "0.588 - Player Bias\n",
      "Move Vector, Piece Moved, and Initial Position\n",
      "0.602 - Player Change\n",
      "0.601 - Optimal Change\n",
      "0.583 - Player Bias\n"
     ]
    }
   ],
   "source": [
    "print('Baseline Accuracy: 0.500', end='\\n\\n')\n",
    "\n",
    "print('Move Vector Only')\n",
    "print(f'{scores5_1.mean():.3f} - Player Change')\n",
    "print(f'{scores5_2.mean():.3f} - Optimal Change')\n",
    "print(f'{scores5_3.mean():.3f} - Player Bias')\n",
    "\n",
    "print('Move Vector and Piece Moved')\n",
    "print(f'{scores6_1.mean():.3f} - Player Change')\n",
    "print(f'{scores6_2.mean():.3f} - Optimal Change')\n",
    "print(f'{scores6_3.mean():.3f} - Player Bias')\n",
    "\n",
    "print('Move Vector and Inital Position')\n",
    "print(f'{scores7_1.mean():.3f} - Player Change')\n",
    "print(f'{scores7_2.mean():.3f} - Optimal Change')\n",
    "print(f'{scores7_3.mean():.3f} - Player Bias')\n",
    "\n",
    "print('Move Vector, Piece Moved, and Initial Position')\n",
    "print(f'{scores8_1.mean():.3f} - Player Change')\n",
    "print(f'{scores8_2.mean():.3f} - Optimal Change')\n",
    "print(f'{scores8_3.mean():.3f} - Player Bias')"
   ]
  },
  {
   "cell_type": "code",
   "execution_count": null,
   "metadata": {},
   "outputs": [],
   "source": []
  }
 ],
 "metadata": {
  "kernelspec": {
   "display_name": "Python 3",
   "language": "python",
   "name": "python3"
  },
  "language_info": {
   "codemirror_mode": {
    "name": "ipython",
    "version": 3
   },
   "file_extension": ".py",
   "mimetype": "text/x-python",
   "name": "python",
   "nbconvert_exporter": "python",
   "pygments_lexer": "ipython3",
   "version": "3.8.3"
  }
 },
 "nbformat": 4,
 "nbformat_minor": 4
}

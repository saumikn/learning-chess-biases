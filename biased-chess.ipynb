{
 "cells": [
  {
   "cell_type": "code",
   "execution_count": 78,
   "metadata": {},
   "outputs": [],
   "source": [
    "import sys\n",
    "import chess\n",
    "from subprocess import Popen, PIPE, DEVNULL\n",
    "from tqdm import tqdm"
   ]
  },
  {
   "cell_type": "code",
   "execution_count": 63,
   "metadata": {},
   "outputs": [],
   "source": [
    "# Constants\n",
    "stockfish_exe = \"~/Documents/classes/rotations/code/Stockfish/src/stockfish\"\n",
    "depth = 20"
   ]
  },
  {
   "cell_type": "code",
   "execution_count": null,
   "metadata": {},
   "outputs": [],
   "source": [
    "fen = \"r4rk1/1ppbq1pp/2np4/p5b1/2PPP3/PP1Q1Rp1/1B4BP/1N2R1K1 w - - 0 20\""
   ]
  },
  {
   "cell_type": "code",
   "execution_count": 64,
   "metadata": {},
   "outputs": [],
   "source": [
    "def process_score(score):\n",
    "    score = round(float(score),1)\n",
    "    score = 2.0 if score > 2 else score\n",
    "    score = -2.0 if score < -2 else score\n",
    "    return score"
   ]
  },
  {
   "cell_type": "code",
   "execution_count": 81,
   "metadata": {},
   "outputs": [],
   "source": [
    "def evaluate(fen, next_move=None):\n",
    "    process = Popen(stockfish_exe, shell=True, stdin=PIPE, stdout=PIPE, stderr=DEVNULL)\n",
    "    if next_move:\n",
    "        output = process.communicate(input=str.encode(f\"position fen {fen} moves {next_move}\\neval\\n\"))[0]\n",
    "    else:\n",
    "        output = process.communicate(input=str.encode(f\"position fen {fen}\\neval\\n\"))[0]\n",
    "    if process.returncode != 0:\n",
    "        sys.stderr.write(f\"Failed: {stockfish_exe}\\n\")\n",
    "        sys.exit(1)\n",
    "\n",
    "    # parse for parameter output\n",
    "    components = ['Material','Mobility','King safety','Space']\n",
    "    scores = []\n",
    "    for line in output.decode(\"utf-8\").split(\"\\n\"):\n",
    "        if any(c in line for c in components):\n",
    "            mg_score = line.split('|')[3].split()[0]\n",
    "            mg_score = process_score(mg_score)\n",
    "            scores.append(mg_score)\n",
    "    return tuple(scores)"
   ]
  },
  {
   "cell_type": "code",
   "execution_count": 70,
   "metadata": {},
   "outputs": [],
   "source": [
    "def get_best_move(fen):\n",
    "    process = Popen(stockfish_exe, shell=True, stdin=PIPE, stdout=PIPE, stderr=DEVNULL)\n",
    "    output = process.communicate(input=str.encode(f\"position fen {fen}\\ngo depth {depth}\\n\"))[0]\n",
    "    if process.returncode != 0:\n",
    "        sys.stderr.write(f\"Failed: {stockfish_exe}\\n\")\n",
    "        sys.exit(1)\n",
    "    for line in output.decode(\"utf-8\").split(\"\\n\"):\n",
    "        if 'bestmove' in line :\n",
    "            return line.split()[1]"
   ]
  },
  {
   "cell_type": "code",
   "execution_count": 71,
   "metadata": {},
   "outputs": [
    {
     "data": {
      "text/plain": [
       "'h2h3'"
      ]
     },
     "execution_count": 71,
     "metadata": {},
     "output_type": "execute_result"
    }
   ],
   "source": [
    "get_best_move(fen)"
   ]
  },
  {
   "cell_type": "code",
   "execution_count": 92,
   "metadata": {},
   "outputs": [],
   "source": [
    "def get_next_states(fen):\n",
    "    board = chess.Board(fen)\n",
    "    moves = [move.uci() for move in board.legal_moves]\n",
    "    states = set()\n",
    "    for move in tqdm(moves):\n",
    "        scores = evaluate(fen, move)\n",
    "        if scores != ():\n",
    "            states.add(scores)\n",
    "    return states"
   ]
  },
  {
   "cell_type": "code",
   "execution_count": 93,
   "metadata": {},
   "outputs": [
    {
     "name": "stderr",
     "output_type": "stream",
     "text": [
      "100%|██████████| 39/39 [00:16<00:00,  2.32it/s]\n"
     ]
    },
    {
     "data": {
      "text/plain": [
       "{(-1.1, -0.6, -2.0, 0.1),\n",
       " (-1.1, -0.4, -2.0, 0.1),\n",
       " (-1.1, -0.3, -2.0, 0.1),\n",
       " (-0.9, -0.3, -2.0, 0.1),\n",
       " (-0.9, -0.3, -1.5, 0.2),\n",
       " (-0.9, -0.2, -2.0, 0.1),\n",
       " (-0.9, -0.2, -2.0, 0.2),\n",
       " (-0.9, -0.2, -1.9, 0.2),\n",
       " (-0.8, -0.6, -2.0, 0.1),\n",
       " (-0.8, -0.5, -2.0, 0.1),\n",
       " (-0.8, -0.4, -2.0, 0.1),\n",
       " (-0.8, -0.3, -2.0, 0.1),\n",
       " (-0.8, -0.3, -2.0, 0.2),\n",
       " (-0.8, -0.2, -2.0, 0.1),\n",
       " (-0.8, -0.1, -2.0, 0.2),\n",
       " (-0.8, -0.1, -1.8, 0.1),\n",
       " (-0.8, -0.1, -1.7, 0.2),\n",
       " (-0.8, -0.1, -1.6, 0.1),\n",
       " (-0.7, -0.3, -2.0, 0.1),\n",
       " (-0.7, -0.1, -1.5, 0.2),\n",
       " (-0.4, -0.1, -2.0, 0.1),\n",
       " (-0.3, -0.3, -1.8, 0.2),\n",
       " (-0.3, -0.0, -2.0, 0.1),\n",
       " (-0.2, -0.2, -0.8, 0.2)}"
      ]
     },
     "execution_count": 93,
     "metadata": {},
     "output_type": "execute_result"
    }
   ],
   "source": [
    "def get_state_space "
   ]
  },
  {
   "cell_type": "code",
   "execution_count": null,
   "metadata": {},
   "outputs": [],
   "source": []
  },
  {
   "cell_type": "code",
   "execution_count": null,
   "metadata": {},
   "outputs": [],
   "source": []
  }
 ],
 "metadata": {
  "kernelspec": {
   "display_name": "Python 3",
   "language": "python",
   "name": "python3"
  },
  "language_info": {
   "codemirror_mode": {
    "name": "ipython",
    "version": 3
   },
   "file_extension": ".py",
   "mimetype": "text/x-python",
   "name": "python",
   "nbconvert_exporter": "python",
   "pygments_lexer": "ipython3",
   "version": "3.8.3"
  }
 },
 "nbformat": 4,
 "nbformat_minor": 4
}

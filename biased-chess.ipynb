{
 "cells": [
  {
   "cell_type": "code",
   "execution_count": 29,
   "metadata": {},
   "outputs": [],
   "source": [
    "import os\n",
    "import sys\n",
    "import csv\n",
    "import time\n",
    "import chess\n",
    "import chess.engine\n",
    "import requests\n",
    "import json\n",
    "import pandas as pd\n",
    "from dotenv import load_dotenv\n",
    "from subprocess import Popen, PIPE, DEVNULL\n",
    "from tqdm import tqdm"
   ]
  },
  {
   "cell_type": "code",
   "execution_count": 2,
   "metadata": {},
   "outputs": [],
   "source": [
    "# Constants\n",
    "stockfish_exe = \"/Users/saumik/Documents/classes/rotations/code/Stockfish/src/stockfish\"\n",
    "engine = chess.engine.SimpleEngine.popen_uci(stockfish_exe)\n",
    "depth = 20\n",
    "load_dotenv()   \n",
    "token = os.getenv('LICHESS_TOKEN')"
   ]
  },
  {
   "cell_type": "code",
   "execution_count": null,
   "metadata": {},
   "outputs": [],
   "source": []
  },
  {
   "cell_type": "code",
   "execution_count": 3,
   "metadata": {},
   "outputs": [],
   "source": [
    "def process_score(score):\n",
    "    score = round(float(score),2)\n",
    "    score = 2.0 if score > 2 else score\n",
    "    score = -2.0 if score < -2 else score\n",
    "    return score"
   ]
  },
  {
   "cell_type": "code",
   "execution_count": 4,
   "metadata": {},
   "outputs": [],
   "source": [
    "def evaluate(fen, next_move=None):\n",
    "    process = Popen(stockfish_exe, shell=True, stdin=PIPE, stdout=PIPE, stderr=DEVNULL)\n",
    "    if next_move:\n",
    "        output = process.communicate(input=str.encode(f\"position fen {fen} moves {next_move}\\neval\\n\"))[0]\n",
    "    else:\n",
    "        output = process.communicate(input=str.encode(f\"position fen {fen}\\neval\\n\"))[0]\n",
    "    if process.returncode != 0:\n",
    "        sys.stderr.write(f\"Failed: {stockfish_exe}\\n\")\n",
    "        sys.exit(1)\n",
    "\n",
    "    # parse for parameter output\n",
    "    components = ['Material','Imbalance','Mobility','King safety','Threats','Passed','Space','Winnable']\n",
    "    scores = []\n",
    "    for line in output.decode(\"utf-8\").split(\"\\n\"):\n",
    "        if any(c in line for c in components):\n",
    "            mg_score = line.split('|')[3].split()[0]\n",
    "            mg_score = process_score(mg_score)\n",
    "            scores.append(mg_score)\n",
    "    return tuple(scores)"
   ]
  },
  {
   "cell_type": "code",
   "execution_count": 5,
   "metadata": {},
   "outputs": [],
   "source": [
    "def get_best_move(fen):\n",
    "#     print(fen)\n",
    "    board = chess.Board(fen=fen)\n",
    "    info = engine.analyse(board, chess.engine.Limit(depth=20))\n",
    "    return info['pv'][0]"
   ]
  },
  {
   "cell_type": "code",
   "execution_count": 6,
   "metadata": {},
   "outputs": [
    {
     "data": {
      "text/plain": [
       "Move.from_uci('b3a4')"
      ]
     },
     "execution_count": 6,
     "metadata": {},
     "output_type": "execute_result"
    }
   ],
   "source": [
    "get_best_move('1r3rk1/p3bpp1/4p2p/2ppP3/q4P2/PPP5/2Q3PP/R1N1K2R w KQ - 2 21')"
   ]
  },
  {
   "cell_type": "code",
   "execution_count": 7,
   "metadata": {},
   "outputs": [],
   "source": [
    "def get_next_states(fen):\n",
    "    board = chess.Board(fen)\n",
    "    moves = [move.uci() for move in board.legal_moves]\n",
    "    states = set()\n",
    "    for move in tqdm(moves):\n",
    "        scores = evaluate(fen, move)\n",
    "        if scores != ():\n",
    "            states.add(scores)\n",
    "    return states"
   ]
  },
  {
   "cell_type": "code",
   "execution_count": 8,
   "metadata": {},
   "outputs": [],
   "source": [
    "def get_agent_bias(data):\n",
    "    pass"
   ]
  },
  {
   "cell_type": "code",
   "execution_count": null,
   "metadata": {},
   "outputs": [],
   "source": []
  },
  {
   "cell_type": "code",
   "execution_count": 9,
   "metadata": {},
   "outputs": [],
   "source": [
    "def get_fens(player, max_games='null', token=None):\n",
    "    headers = {'Accept':'application/x-ndjson'}\n",
    "    if token:\n",
    "        headers['Authorization'] = f'Bearer {token}'\n",
    "    params = {'max':max_games}\n",
    "    response = requests.get(f\"https://lichess.org/api/games/user/{player}\", headers=headers, params=params)\n",
    "    with open(f'data/{player}.csv', 'w') as f:\n",
    "        for line in response.iter_lines():\n",
    "            line = json.loads(line.decode('utf-8'))\n",
    "            if line['variant'] == 'standard' and 'moves' in line:\n",
    "                try:\n",
    "                    color = 'w' if line['players']['white']['user']['name'] == player else 'b'\n",
    "                except:\n",
    "                    continue\n",
    "                moves = line['moves'].split()\n",
    "                board = chess.Board()\n",
    "                for san in moves:\n",
    "                    uci = board.parse_san(san).uci()\n",
    "                    fen = board.fen()\n",
    "                    movenum = int(fen.split()[5])\n",
    "                    if fen.split()[1] == color and movenum >= 10 and movenum < 30:\n",
    "                        print(f'{uci},{fen}', file=f)\n",
    "                    board.push_uci(uci)"
   ]
  },
  {
   "cell_type": "code",
   "execution_count": 10,
   "metadata": {},
   "outputs": [],
   "source": [
    "# %%time\n",
    "# get_fens('snar',max_games=10, token=token)"
   ]
  },
  {
   "cell_type": "code",
   "execution_count": 106,
   "metadata": {},
   "outputs": [],
   "source": [
    "top_blitz = ['Konevlad', 'may6enexttime','IWANNABEADOORED','Ogrilla','cjota95',\n",
    "             'alireza2003','Drvitman','black_knight22','NIndja64','Benefactorr']\n",
    "top_blitz = ['Konevlad']"
   ]
  },
  {
   "cell_type": "code",
   "execution_count": 12,
   "metadata": {},
   "outputs": [],
   "source": [
    "# for p in tqdm(top_blitz):\n",
    "#     get_fens(p, max_games=100, token=token)"
   ]
  },
  {
   "cell_type": "code",
   "execution_count": 20,
   "metadata": {},
   "outputs": [],
   "source": [
    "def rm_paren(tup):\n",
    "    return ','.join(str(i) for i in tup)"
   ]
  },
  {
   "cell_type": "code",
   "execution_count": 27,
   "metadata": {},
   "outputs": [],
   "source": [
    "def get_avg_bias(player):\n",
    "    total = [0,0,0,0,0,0,0,0]\n",
    "    with open(f'data/{player}.csv', 'r') as f:\n",
    "        with open(f'diffs/{player}.csv','w') as fw:\n",
    "            csv_reader = csv.reader(f, delimiter=',')\n",
    "#             count = 0\n",
    "            for uci,fen in tqdm(csv_reader):\n",
    "#                 if count >= 10:\n",
    "#                     break\n",
    "                current_eval = evaluate(fen)\n",
    "                played_eval = evaluate(fen, uci)\n",
    "                best = get_best_move(fen)\n",
    "                best_eval = played_eval if str(best) == str(uci) else evaluate(fen, best)\n",
    "                print(f'{fen},{rm_paren(current_eval)},{uci},{rm_paren(played_eval)},{best},{rm_paren(best_eval)}', file=fw)\n",
    "#                 count+=1"
   ]
  },
  {
   "cell_type": "code",
   "execution_count": 28,
   "metadata": {},
   "outputs": [
    {
     "name": "stderr",
     "output_type": "stream",
     "text": [
      "1860it [1:01:52,  2.00s/it]\n"
     ]
    },
    {
     "name": "stdout",
     "output_type": "stream",
     "text": [
      "None\n"
     ]
    }
   ],
   "source": [
    "for p in top_blitz:\n",
    "    print(get_avg_bias(p))\n",
    "    time.sleep(1)\n",
    "    break\n",
    "    "
   ]
  },
  {
   "cell_type": "code",
   "execution_count": 21,
   "metadata": {
    "scrolled": true
   },
   "outputs": [
    {
     "data": {
      "text/plain": [
       "'1,2,3,4,5'"
      ]
     },
     "execution_count": 21,
     "metadata": {},
     "output_type": "execute_result"
    }
   ],
   "source": [
    "tup = (1,2,3,4,5)\n",
    "rm_paren(tup)"
   ]
  },
  {
   "cell_type": "code",
   "execution_count": 94,
   "metadata": {},
   "outputs": [],
   "source": [
    "def get_df(filename, cols):\n",
    "    df = pd.read_csv(filename, names=names, index_col=False, usecols=['fen']+cols)\n",
    "    df['color'] = df['fen'].apply(lambda x: x.split()[1])\n",
    "    df = df.drop('fen', axis=1)\n",
    "    df.loc[df['color'] == 'b',cols] = df*-1\n",
    "    df = df.drop('color', axis=1)\n",
    "    return df"
   ]
  },
  {
   "cell_type": "code",
   "execution_count": 101,
   "metadata": {},
   "outputs": [],
   "source": [
    "elen = 8\n",
    "fen_cols = [f'f{i}' for i in range(elen)]\n",
    "player_cols = [f'p{i}' for i in range(elen)]\n",
    "best_cols = [f'b{i}' for i in range(elen)]\n",
    "names = ['fen'] + fen_cols + ['player'] + player_cols + ['best'] + best_cols\n",
    "# skiprows = lambda x: x.split()[1] == 'b'\n",
    "\n",
    "df_fen = get_df('diffs/Konevlad.csv', fen_cols)\n",
    "df_player = get_df('diffs/Konevlad.csv', player_cols)\n",
    "df_best = get_df('diffs/Konevlad.csv', best_cols)\n",
    "\n",
    "df_player_change = df_player - df_fen.values\n",
    "df_best_change = df_best - df_fen.values\n",
    "df_player_bias = df_player - df_best.values"
   ]
  },
  {
   "cell_type": "code",
   "execution_count": 103,
   "metadata": {},
   "outputs": [
    {
     "data": {
      "text/plain": [
       "p0    0.447852\n",
       "p1    0.092609\n",
       "p2    0.067268\n",
       "p3    0.161833\n",
       "p4    0.151961\n",
       "p5    0.031395\n",
       "p6    0.025365\n",
       "p7   -0.000969\n",
       "dtype: float64"
      ]
     },
     "execution_count": 103,
     "metadata": {},
     "output_type": "execute_result"
    }
   ],
   "source": [
    "df_player_change.mean()"
   ]
  },
  {
   "cell_type": "code",
   "execution_count": 104,
   "metadata": {},
   "outputs": [
    {
     "data": {
      "text/plain": [
       "b0    0.435044\n",
       "b1    0.091800\n",
       "b2    0.066411\n",
       "b3    0.150584\n",
       "b4    0.143700\n",
       "b5    0.024752\n",
       "b6    0.025207\n",
       "b7   -0.000970\n",
       "dtype: float64"
      ]
     },
     "execution_count": 104,
     "metadata": {},
     "output_type": "execute_result"
    }
   ],
   "source": [
    "df_best_change.mean()"
   ]
  },
  {
   "cell_type": "code",
   "execution_count": 105,
   "metadata": {},
   "outputs": [
    {
     "data": {
      "text/plain": [
       "p0    0.008796\n",
       "p1    0.002173\n",
       "p2    0.000803\n",
       "p3    0.007672\n",
       "p4    0.005396\n",
       "p5    0.006325\n",
       "p6    0.000201\n",
       "p7    0.000000\n",
       "dtype: float64"
      ]
     },
     "execution_count": 105,
     "metadata": {},
     "output_type": "execute_result"
    }
   ],
   "source": [
    "df_player_bias.mean()"
   ]
  },
  {
   "cell_type": "code",
   "execution_count": null,
   "metadata": {},
   "outputs": [],
   "source": []
  }
 ],
 "metadata": {
  "kernelspec": {
   "display_name": "Python 3",
   "language": "python",
   "name": "python3"
  },
  "language_info": {
   "codemirror_mode": {
    "name": "ipython",
    "version": 3
   },
   "file_extension": ".py",
   "mimetype": "text/x-python",
   "name": "python",
   "nbconvert_exporter": "python",
   "pygments_lexer": "ipython3",
   "version": "3.8.3"
  }
 },
 "nbformat": 4,
 "nbformat_minor": 4
}

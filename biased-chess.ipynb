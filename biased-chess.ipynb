{
 "cells": [
  {
   "cell_type": "code",
   "execution_count": 48,
   "metadata": {},
   "outputs": [],
   "source": [
    "import os\n",
    "import sys\n",
    "import csv\n",
    "import time\n",
    "import chess\n",
    "import chess.engine\n",
    "import requests\n",
    "import json\n",
    "import pandas as pd\n",
    "from dotenv import load_dotenv\n",
    "from subprocess import Popen, PIPE, DEVNULL\n",
    "from tqdm import tqdm\n",
    "\n",
    "from sklearn.preprocessing import StandardScaler\n",
    "from sklearn.decomposition import PCA"
   ]
  },
  {
   "cell_type": "code",
   "execution_count": 2,
   "metadata": {},
   "outputs": [],
   "source": [
    "# Constants\n",
    "stockfish_exe = \"/Users/saumik/Documents/classes/rotations/code/Stockfish/src/stockfish\"\n",
    "engine = chess.engine.SimpleEngine.popen_uci(stockfish_exe)\n",
    "depth = 20\n",
    "load_dotenv()   \n",
    "token = os.getenv('LICHESS_TOKEN')"
   ]
  },
  {
   "cell_type": "code",
   "execution_count": 3,
   "metadata": {},
   "outputs": [],
   "source": [
    "def get_fens(player, max_games='null', token=None):\n",
    "    headers = {'Accept':'application/x-ndjson'}\n",
    "    if token:\n",
    "        headers['Authorization'] = f'Bearer {token}'\n",
    "    params = {'max':max_games}\n",
    "    response = requests.get(f\"https://lichess.org/api/games/user/{player}\", headers=headers, params=params)\n",
    "    with open(f'data/{player}.csv', 'w') as f:\n",
    "        for line in response.iter_lines():\n",
    "            line = json.loads(line.decode('utf-8'))\n",
    "            if line['variant'] == 'standard' and 'moves' in line:\n",
    "                try:\n",
    "                    color = 'w' if line['players']['white']['user']['name'] == player else 'b'\n",
    "                except:\n",
    "                    continue\n",
    "                moves = line['moves'].split()\n",
    "                board = chess.Board()\n",
    "                for san in moves:\n",
    "                    uci = board.parse_san(san).uci()\n",
    "                    fen = board.fen()\n",
    "                    movenum = int(fen.split()[5])\n",
    "                    if fen.split()[1] == color and movenum >= 10 and movenum < 30:\n",
    "                        print(f'{uci},{fen}', file=f)\n",
    "                    board.push_uci(uci)"
   ]
  },
  {
   "cell_type": "code",
   "execution_count": 4,
   "metadata": {},
   "outputs": [],
   "source": [
    "# for p in tqdm(top_blitz):\n",
    "#     get_fens(p, max_games=100, token=token)"
   ]
  },
  {
   "cell_type": "code",
   "execution_count": 5,
   "metadata": {},
   "outputs": [],
   "source": [
    "def clean_score(score):\n",
    "    score = round(float(score),2)\n",
    "    score = 2.0 if score > 2 else score\n",
    "    score = -2.0 if score < -2 else score\n",
    "    return score\n",
    "\n",
    "def evaluate(fen, next_move=None):\n",
    "    process = Popen(stockfish_exe, shell=True, stdin=PIPE, stdout=PIPE, stderr=DEVNULL)\n",
    "    if next_move:\n",
    "        output = process.communicate(input=str.encode(f\"position fen {fen} moves {next_move}\\neval\\n\"))[0]\n",
    "    else:\n",
    "        output = process.communicate(input=str.encode(f\"position fen {fen}\\neval\\n\"))[0]\n",
    "    if process.returncode != 0:\n",
    "        sys.stderr.write(f\"Failed: {stockfish_exe}\\n\")\n",
    "        sys.exit(1)\n",
    "\n",
    "    # parse for parameter output\n",
    "    components = ['Material','Imbalance','Mobility','King safety','Threats','Passed','Space','Winnable']\n",
    "    scores = []\n",
    "    for line in output.decode(\"utf-8\").split(\"\\n\"):\n",
    "        if any(c in line for c in components):\n",
    "            mg_score = line.split('|')[3].split()[0]\n",
    "            mg_score = clean_score(mg_score)\n",
    "            scores.append(mg_score)\n",
    "    return tuple(scores)"
   ]
  },
  {
   "cell_type": "code",
   "execution_count": 6,
   "metadata": {},
   "outputs": [],
   "source": [
    "# Unused at the moment\n",
    "def get_next_states(fen):\n",
    "    board = chess.Board(fen)\n",
    "    moves = [move.uci() for move in board.legal_moves]\n",
    "    states = set()\n",
    "    for move in tqdm(moves):\n",
    "        scores = evaluate(fen, move)\n",
    "        if scores != ():\n",
    "            states.add(scores)\n",
    "    return states"
   ]
  },
  {
   "cell_type": "code",
   "execution_count": 22,
   "metadata": {},
   "outputs": [],
   "source": [
    "top_blitz = ['Konevlad', 'may6enexttime','IWANNABEADOORED','Ogrilla','cjota95',\n",
    "             'alireza2003','Drvitman','black_knight22','NIndja64','Benefactorr']"
   ]
  },
  {
   "cell_type": "code",
   "execution_count": 8,
   "metadata": {},
   "outputs": [],
   "source": [
    "def get_best_move(fen):\n",
    "#     print(fen)\n",
    "    board = chess.Board(fen=fen)\n",
    "    info = engine.analyse(board, chess.engine.Limit(depth=20))\n",
    "    return info['pv'][0]"
   ]
  },
  {
   "cell_type": "code",
   "execution_count": 9,
   "metadata": {},
   "outputs": [],
   "source": [
    "def rm_paren(tup):\n",
    "    if tup == ():\n",
    "        return ',,,,,,,'\n",
    "    return ','.join(str(i) for i in tup)"
   ]
  },
  {
   "cell_type": "code",
   "execution_count": 10,
   "metadata": {},
   "outputs": [],
   "source": [
    "def get_avg_bias(player):\n",
    "    total = [0,0,0,0,0,0,0,0]\n",
    "    with open(f'data/{player}.csv', 'r') as f:\n",
    "        with open(f'diffs/{player}.csv','w') as fw:\n",
    "            csv_reader = csv.reader(f, delimiter=',')\n",
    "#             count = 0\n",
    "            for uci,fen in tqdm(csv_reader):\n",
    "#                 if count >= 10:\n",
    "#                     break\n",
    "                current_eval = evaluate(fen)\n",
    "                played_eval = evaluate(fen, uci)\n",
    "                best = get_best_move(fen)\n",
    "                best_eval = played_eval if str(best) == str(uci) else evaluate(fen, best)\n",
    "                print(f'{fen},{rm_paren(current_eval)},{uci},{rm_paren(played_eval)},{best},{rm_paren(best_eval)}', file=fw)\n",
    "#                 count+=1"
   ]
  },
  {
   "cell_type": "code",
   "execution_count": 11,
   "metadata": {},
   "outputs": [
    {
     "name": "stderr",
     "output_type": "stream",
     "text": [
      "\r",
      "0it [00:00, ?it/s]"
     ]
    },
    {
     "name": "stdout",
     "output_type": "stream",
     "text": [
      "Starting Drvitman\n"
     ]
    },
    {
     "name": "stderr",
     "output_type": "stream",
     "text": [
      "1109it [34:34,  1.87s/it]\n",
      "0it [00:00, ?it/s]"
     ]
    },
    {
     "name": "stdout",
     "output_type": "stream",
     "text": [
      "Starting black_knight22\n"
     ]
    },
    {
     "name": "stderr",
     "output_type": "stream",
     "text": [
      "1605it [48:55,  1.83s/it]\n",
      "0it [00:00, ?it/s]"
     ]
    },
    {
     "name": "stdout",
     "output_type": "stream",
     "text": [
      "Starting NIndja64\n"
     ]
    },
    {
     "name": "stderr",
     "output_type": "stream",
     "text": [
      "1408it [41:51,  1.78s/it]\n",
      "0it [00:00, ?it/s]"
     ]
    },
    {
     "name": "stdout",
     "output_type": "stream",
     "text": [
      "Starting Benefactorr\n"
     ]
    },
    {
     "name": "stderr",
     "output_type": "stream",
     "text": [
      "1680it [50:23,  1.80s/it]\n"
     ]
    }
   ],
   "source": [
    "for p in top_blitz:\n",
    "    print(f'Starting {p}')\n",
    "    get_avg_bias(p)\n",
    "    time.sleep(1)\n",
    "    "
   ]
  },
  {
   "cell_type": "code",
   "execution_count": 12,
   "metadata": {},
   "outputs": [],
   "source": [
    "def get_df(filename, cols, names):\n",
    "    df = pd.read_csv(filename, names=names, index_col=False, usecols=['fen']+cols)\n",
    "    df['color'] = df['fen'].apply(lambda x: x.split()[1])\n",
    "    df = df.drop('fen', axis=1)\n",
    "    df.loc[df['color'] == 'b',cols] = df*-1\n",
    "    df = df.drop('color', axis=1)\n",
    "    return df"
   ]
  },
  {
   "cell_type": "code",
   "execution_count": 17,
   "metadata": {},
   "outputs": [],
   "source": [
    "def calc_bias(diffs_file):\n",
    "    elen = 8\n",
    "    fen_cols = [f'f{i}' for i in range(elen)]\n",
    "    player_cols = [f'p{i}' for i in range(elen)]\n",
    "    best_cols = [f'b{i}' for i in range(elen)]\n",
    "    names = ['fen'] + fen_cols + ['player'] + player_cols + ['best'] + best_cols\n",
    "    # skiprows = lambda x: x.split()[1] == 'b'\n",
    "\n",
    "    df_fen = get_df(diffs_file, fen_cols, names)\n",
    "    df_player = get_df(diffs_file, player_cols, names)\n",
    "    df_best = get_df(diffs_file, best_cols, names)\n",
    "    \n",
    "    df_player_change = df_player - df_fen.values\n",
    "    df_best_change = df_best - df_fen.values\n",
    "    df_player_bias = df_player - df_best.values\n",
    "    \n",
    "    return df_player_change.mean(), df_best_change.mean(), df_player_bias.mean()"
   ]
  },
  {
   "cell_type": "code",
   "execution_count": 42,
   "metadata": {},
   "outputs": [],
   "source": [
    "ans = [calc_bias(f'diffs/{i}.csv') for i in top_blitz]\n",
    "\n",
    "pchange = pd.concat([i[0] for i in ans], axis=1).T\n",
    "bchange = pd.concat([i[1] for i in ans], axis=1).T\n",
    "pbias = pd.concat([i[2] for i in ans], axis=1).T"
   ]
  },
  {
   "cell_type": "code",
   "execution_count": 43,
   "metadata": {},
   "outputs": [
    {
     "data": {
      "text/html": [
       "<div>\n",
       "<style scoped>\n",
       "    .dataframe tbody tr th:only-of-type {\n",
       "        vertical-align: middle;\n",
       "    }\n",
       "\n",
       "    .dataframe tbody tr th {\n",
       "        vertical-align: top;\n",
       "    }\n",
       "\n",
       "    .dataframe thead th {\n",
       "        text-align: right;\n",
       "    }\n",
       "</style>\n",
       "<table border=\"1\" class=\"dataframe\">\n",
       "  <thead>\n",
       "    <tr style=\"text-align: right;\">\n",
       "      <th></th>\n",
       "      <th>p0</th>\n",
       "      <th>p1</th>\n",
       "      <th>p2</th>\n",
       "      <th>p3</th>\n",
       "      <th>p4</th>\n",
       "      <th>p5</th>\n",
       "      <th>p6</th>\n",
       "      <th>p7</th>\n",
       "    </tr>\n",
       "  </thead>\n",
       "  <tbody>\n",
       "    <tr>\n",
       "      <th>0</th>\n",
       "      <td>0.447852</td>\n",
       "      <td>0.092609</td>\n",
       "      <td>0.067268</td>\n",
       "      <td>0.161833</td>\n",
       "      <td>0.151961</td>\n",
       "      <td>0.031395</td>\n",
       "      <td>0.025365</td>\n",
       "      <td>-0.000969</td>\n",
       "    </tr>\n",
       "    <tr>\n",
       "      <th>1</th>\n",
       "      <td>0.378053</td>\n",
       "      <td>0.086448</td>\n",
       "      <td>0.061594</td>\n",
       "      <td>0.149774</td>\n",
       "      <td>0.153172</td>\n",
       "      <td>0.031087</td>\n",
       "      <td>0.023116</td>\n",
       "      <td>0.000000</td>\n",
       "    </tr>\n",
       "    <tr>\n",
       "      <th>2</th>\n",
       "      <td>0.412359</td>\n",
       "      <td>0.090588</td>\n",
       "      <td>0.068874</td>\n",
       "      <td>0.145730</td>\n",
       "      <td>0.148394</td>\n",
       "      <td>0.030894</td>\n",
       "      <td>0.026092</td>\n",
       "      <td>-0.001012</td>\n",
       "    </tr>\n",
       "    <tr>\n",
       "      <th>3</th>\n",
       "      <td>0.419691</td>\n",
       "      <td>0.097995</td>\n",
       "      <td>0.061184</td>\n",
       "      <td>0.113813</td>\n",
       "      <td>0.128150</td>\n",
       "      <td>0.036252</td>\n",
       "      <td>0.024658</td>\n",
       "      <td>-0.000291</td>\n",
       "    </tr>\n",
       "    <tr>\n",
       "      <th>4</th>\n",
       "      <td>0.376687</td>\n",
       "      <td>0.087174</td>\n",
       "      <td>0.065991</td>\n",
       "      <td>0.134723</td>\n",
       "      <td>0.112248</td>\n",
       "      <td>0.023608</td>\n",
       "      <td>0.027537</td>\n",
       "      <td>-0.000018</td>\n",
       "    </tr>\n",
       "    <tr>\n",
       "      <th>5</th>\n",
       "      <td>0.372646</td>\n",
       "      <td>0.084055</td>\n",
       "      <td>0.065107</td>\n",
       "      <td>0.159624</td>\n",
       "      <td>0.161490</td>\n",
       "      <td>0.026615</td>\n",
       "      <td>0.023056</td>\n",
       "      <td>-0.000104</td>\n",
       "    </tr>\n",
       "    <tr>\n",
       "      <th>6</th>\n",
       "      <td>0.362972</td>\n",
       "      <td>0.088819</td>\n",
       "      <td>0.063297</td>\n",
       "      <td>0.162569</td>\n",
       "      <td>0.146112</td>\n",
       "      <td>0.039685</td>\n",
       "      <td>0.026506</td>\n",
       "      <td>-0.000039</td>\n",
       "    </tr>\n",
       "    <tr>\n",
       "      <th>7</th>\n",
       "      <td>0.397692</td>\n",
       "      <td>0.098222</td>\n",
       "      <td>0.061437</td>\n",
       "      <td>0.151771</td>\n",
       "      <td>0.154986</td>\n",
       "      <td>0.034372</td>\n",
       "      <td>0.023731</td>\n",
       "      <td>0.000105</td>\n",
       "    </tr>\n",
       "    <tr>\n",
       "      <th>8</th>\n",
       "      <td>0.351105</td>\n",
       "      <td>0.083445</td>\n",
       "      <td>0.062005</td>\n",
       "      <td>0.143049</td>\n",
       "      <td>0.138125</td>\n",
       "      <td>0.033849</td>\n",
       "      <td>0.030823</td>\n",
       "      <td>0.000000</td>\n",
       "    </tr>\n",
       "    <tr>\n",
       "      <th>9</th>\n",
       "      <td>0.409216</td>\n",
       "      <td>0.095221</td>\n",
       "      <td>0.071384</td>\n",
       "      <td>0.212446</td>\n",
       "      <td>0.178715</td>\n",
       "      <td>0.034621</td>\n",
       "      <td>0.031015</td>\n",
       "      <td>-0.000040</td>\n",
       "    </tr>\n",
       "  </tbody>\n",
       "</table>\n",
       "</div>"
      ],
      "text/plain": [
       "         p0        p1        p2        p3        p4        p5        p6  \\\n",
       "0  0.447852  0.092609  0.067268  0.161833  0.151961  0.031395  0.025365   \n",
       "1  0.378053  0.086448  0.061594  0.149774  0.153172  0.031087  0.023116   \n",
       "2  0.412359  0.090588  0.068874  0.145730  0.148394  0.030894  0.026092   \n",
       "3  0.419691  0.097995  0.061184  0.113813  0.128150  0.036252  0.024658   \n",
       "4  0.376687  0.087174  0.065991  0.134723  0.112248  0.023608  0.027537   \n",
       "5  0.372646  0.084055  0.065107  0.159624  0.161490  0.026615  0.023056   \n",
       "6  0.362972  0.088819  0.063297  0.162569  0.146112  0.039685  0.026506   \n",
       "7  0.397692  0.098222  0.061437  0.151771  0.154986  0.034372  0.023731   \n",
       "8  0.351105  0.083445  0.062005  0.143049  0.138125  0.033849  0.030823   \n",
       "9  0.409216  0.095221  0.071384  0.212446  0.178715  0.034621  0.031015   \n",
       "\n",
       "         p7  \n",
       "0 -0.000969  \n",
       "1  0.000000  \n",
       "2 -0.001012  \n",
       "3 -0.000291  \n",
       "4 -0.000018  \n",
       "5 -0.000104  \n",
       "6 -0.000039  \n",
       "7  0.000105  \n",
       "8  0.000000  \n",
       "9 -0.000040  "
      ]
     },
     "execution_count": 43,
     "metadata": {},
     "output_type": "execute_result"
    }
   ],
   "source": [
    "pchange"
   ]
  },
  {
   "cell_type": "code",
   "execution_count": 44,
   "metadata": {},
   "outputs": [
    {
     "data": {
      "text/html": [
       "<div>\n",
       "<style scoped>\n",
       "    .dataframe tbody tr th:only-of-type {\n",
       "        vertical-align: middle;\n",
       "    }\n",
       "\n",
       "    .dataframe tbody tr th {\n",
       "        vertical-align: top;\n",
       "    }\n",
       "\n",
       "    .dataframe thead th {\n",
       "        text-align: right;\n",
       "    }\n",
       "</style>\n",
       "<table border=\"1\" class=\"dataframe\">\n",
       "  <thead>\n",
       "    <tr style=\"text-align: right;\">\n",
       "      <th></th>\n",
       "      <th>b0</th>\n",
       "      <th>b1</th>\n",
       "      <th>b2</th>\n",
       "      <th>b3</th>\n",
       "      <th>b4</th>\n",
       "      <th>b5</th>\n",
       "      <th>b6</th>\n",
       "      <th>b7</th>\n",
       "    </tr>\n",
       "  </thead>\n",
       "  <tbody>\n",
       "    <tr>\n",
       "      <th>0</th>\n",
       "      <td>0.435044</td>\n",
       "      <td>0.091800</td>\n",
       "      <td>0.066411</td>\n",
       "      <td>0.150584</td>\n",
       "      <td>0.143700</td>\n",
       "      <td>0.024752</td>\n",
       "      <td>0.025207</td>\n",
       "      <td>-0.000970</td>\n",
       "    </tr>\n",
       "    <tr>\n",
       "      <th>1</th>\n",
       "      <td>0.396141</td>\n",
       "      <td>0.088506</td>\n",
       "      <td>0.064316</td>\n",
       "      <td>0.176329</td>\n",
       "      <td>0.153760</td>\n",
       "      <td>0.024123</td>\n",
       "      <td>0.023743</td>\n",
       "      <td>0.000000</td>\n",
       "    </tr>\n",
       "    <tr>\n",
       "      <th>2</th>\n",
       "      <td>0.409187</td>\n",
       "      <td>0.090955</td>\n",
       "      <td>0.069642</td>\n",
       "      <td>0.139073</td>\n",
       "      <td>0.154969</td>\n",
       "      <td>0.024912</td>\n",
       "      <td>0.027351</td>\n",
       "      <td>-0.001381</td>\n",
       "    </tr>\n",
       "    <tr>\n",
       "      <th>3</th>\n",
       "      <td>0.434546</td>\n",
       "      <td>0.103001</td>\n",
       "      <td>0.062231</td>\n",
       "      <td>0.125610</td>\n",
       "      <td>0.138611</td>\n",
       "      <td>0.034348</td>\n",
       "      <td>0.027962</td>\n",
       "      <td>-0.000138</td>\n",
       "    </tr>\n",
       "    <tr>\n",
       "      <th>4</th>\n",
       "      <td>0.357890</td>\n",
       "      <td>0.089023</td>\n",
       "      <td>0.067741</td>\n",
       "      <td>0.132377</td>\n",
       "      <td>0.122589</td>\n",
       "      <td>0.024530</td>\n",
       "      <td>0.029235</td>\n",
       "      <td>-0.000019</td>\n",
       "    </tr>\n",
       "    <tr>\n",
       "      <th>5</th>\n",
       "      <td>0.379633</td>\n",
       "      <td>0.087382</td>\n",
       "      <td>0.061073</td>\n",
       "      <td>0.163582</td>\n",
       "      <td>0.145390</td>\n",
       "      <td>0.025557</td>\n",
       "      <td>0.022905</td>\n",
       "      <td>-0.000103</td>\n",
       "    </tr>\n",
       "    <tr>\n",
       "      <th>6</th>\n",
       "      <td>0.376650</td>\n",
       "      <td>0.091565</td>\n",
       "      <td>0.065723</td>\n",
       "      <td>0.190628</td>\n",
       "      <td>0.134237</td>\n",
       "      <td>0.036381</td>\n",
       "      <td>0.029870</td>\n",
       "      <td>-0.000040</td>\n",
       "    </tr>\n",
       "    <tr>\n",
       "      <th>7</th>\n",
       "      <td>0.446388</td>\n",
       "      <td>0.111152</td>\n",
       "      <td>0.061961</td>\n",
       "      <td>0.158946</td>\n",
       "      <td>0.138067</td>\n",
       "      <td>0.032396</td>\n",
       "      <td>0.025805</td>\n",
       "      <td>-0.000105</td>\n",
       "    </tr>\n",
       "    <tr>\n",
       "      <th>8</th>\n",
       "      <td>0.379284</td>\n",
       "      <td>0.089162</td>\n",
       "      <td>0.062970</td>\n",
       "      <td>0.142384</td>\n",
       "      <td>0.146657</td>\n",
       "      <td>0.034334</td>\n",
       "      <td>0.031546</td>\n",
       "      <td>0.000000</td>\n",
       "    </tr>\n",
       "    <tr>\n",
       "      <th>9</th>\n",
       "      <td>0.426930</td>\n",
       "      <td>0.096976</td>\n",
       "      <td>0.068709</td>\n",
       "      <td>0.219078</td>\n",
       "      <td>0.144433</td>\n",
       "      <td>0.033485</td>\n",
       "      <td>0.032563</td>\n",
       "      <td>-0.000145</td>\n",
       "    </tr>\n",
       "  </tbody>\n",
       "</table>\n",
       "</div>"
      ],
      "text/plain": [
       "         b0        b1        b2        b3        b4        b5        b6  \\\n",
       "0  0.435044  0.091800  0.066411  0.150584  0.143700  0.024752  0.025207   \n",
       "1  0.396141  0.088506  0.064316  0.176329  0.153760  0.024123  0.023743   \n",
       "2  0.409187  0.090955  0.069642  0.139073  0.154969  0.024912  0.027351   \n",
       "3  0.434546  0.103001  0.062231  0.125610  0.138611  0.034348  0.027962   \n",
       "4  0.357890  0.089023  0.067741  0.132377  0.122589  0.024530  0.029235   \n",
       "5  0.379633  0.087382  0.061073  0.163582  0.145390  0.025557  0.022905   \n",
       "6  0.376650  0.091565  0.065723  0.190628  0.134237  0.036381  0.029870   \n",
       "7  0.446388  0.111152  0.061961  0.158946  0.138067  0.032396  0.025805   \n",
       "8  0.379284  0.089162  0.062970  0.142384  0.146657  0.034334  0.031546   \n",
       "9  0.426930  0.096976  0.068709  0.219078  0.144433  0.033485  0.032563   \n",
       "\n",
       "         b7  \n",
       "0 -0.000970  \n",
       "1  0.000000  \n",
       "2 -0.001381  \n",
       "3 -0.000138  \n",
       "4 -0.000019  \n",
       "5 -0.000103  \n",
       "6 -0.000040  \n",
       "7 -0.000105  \n",
       "8  0.000000  \n",
       "9 -0.000145  "
      ]
     },
     "execution_count": 44,
     "metadata": {},
     "output_type": "execute_result"
    }
   ],
   "source": [
    "bchange"
   ]
  },
  {
   "cell_type": "code",
   "execution_count": 45,
   "metadata": {},
   "outputs": [
    {
     "data": {
      "text/html": [
       "<div>\n",
       "<style scoped>\n",
       "    .dataframe tbody tr th:only-of-type {\n",
       "        vertical-align: middle;\n",
       "    }\n",
       "\n",
       "    .dataframe tbody tr th {\n",
       "        vertical-align: top;\n",
       "    }\n",
       "\n",
       "    .dataframe thead th {\n",
       "        text-align: right;\n",
       "    }\n",
       "</style>\n",
       "<table border=\"1\" class=\"dataframe\">\n",
       "  <thead>\n",
       "    <tr style=\"text-align: right;\">\n",
       "      <th></th>\n",
       "      <th>p0</th>\n",
       "      <th>p1</th>\n",
       "      <th>p2</th>\n",
       "      <th>p3</th>\n",
       "      <th>p4</th>\n",
       "      <th>p5</th>\n",
       "      <th>p6</th>\n",
       "      <th>p7</th>\n",
       "    </tr>\n",
       "  </thead>\n",
       "  <tbody>\n",
       "    <tr>\n",
       "      <th>0</th>\n",
       "      <td>0.008796</td>\n",
       "      <td>0.002173</td>\n",
       "      <td>0.000803</td>\n",
       "      <td>0.007672</td>\n",
       "      <td>0.005396</td>\n",
       "      <td>0.006325</td>\n",
       "      <td>0.000201</td>\n",
       "      <td>0.000000</td>\n",
       "    </tr>\n",
       "    <tr>\n",
       "      <th>1</th>\n",
       "      <td>-0.026190</td>\n",
       "      <td>-0.002765</td>\n",
       "      <td>-0.002451</td>\n",
       "      <td>-0.030016</td>\n",
       "      <td>-0.001223</td>\n",
       "      <td>0.007419</td>\n",
       "      <td>-0.000904</td>\n",
       "      <td>0.000016</td>\n",
       "    </tr>\n",
       "    <tr>\n",
       "      <th>2</th>\n",
       "      <td>0.001219</td>\n",
       "      <td>-0.001146</td>\n",
       "      <td>-0.000306</td>\n",
       "      <td>0.006611</td>\n",
       "      <td>-0.006043</td>\n",
       "      <td>0.005092</td>\n",
       "      <td>-0.001180</td>\n",
       "      <td>0.000356</td>\n",
       "    </tr>\n",
       "    <tr>\n",
       "      <th>3</th>\n",
       "      <td>-0.017404</td>\n",
       "      <td>-0.004656</td>\n",
       "      <td>-0.000324</td>\n",
       "      <td>-0.010059</td>\n",
       "      <td>-0.009665</td>\n",
       "      <td>0.001995</td>\n",
       "      <td>-0.003114</td>\n",
       "      <td>-0.000153</td>\n",
       "    </tr>\n",
       "    <tr>\n",
       "      <th>4</th>\n",
       "      <td>0.023194</td>\n",
       "      <td>-0.001242</td>\n",
       "      <td>-0.001036</td>\n",
       "      <td>0.001236</td>\n",
       "      <td>-0.007206</td>\n",
       "      <td>-0.000158</td>\n",
       "      <td>-0.001667</td>\n",
       "      <td>0.000000</td>\n",
       "    </tr>\n",
       "    <tr>\n",
       "      <th>5</th>\n",
       "      <td>-0.007601</td>\n",
       "      <td>-0.002478</td>\n",
       "      <td>0.003657</td>\n",
       "      <td>-0.003337</td>\n",
       "      <td>0.014472</td>\n",
       "      <td>0.001051</td>\n",
       "      <td>0.000242</td>\n",
       "      <td>0.000000</td>\n",
       "    </tr>\n",
       "    <tr>\n",
       "      <th>6</th>\n",
       "      <td>-0.014136</td>\n",
       "      <td>-0.002593</td>\n",
       "      <td>-0.002446</td>\n",
       "      <td>-0.034145</td>\n",
       "      <td>0.012338</td>\n",
       "      <td>0.003910</td>\n",
       "      <td>-0.002475</td>\n",
       "      <td>0.000000</td>\n",
       "    </tr>\n",
       "    <tr>\n",
       "      <th>7</th>\n",
       "      <td>-0.046035</td>\n",
       "      <td>-0.011065</td>\n",
       "      <td>-0.000670</td>\n",
       "      <td>-0.003784</td>\n",
       "      <td>0.020837</td>\n",
       "      <td>0.001795</td>\n",
       "      <td>-0.001695</td>\n",
       "      <td>0.000174</td>\n",
       "    </tr>\n",
       "    <tr>\n",
       "      <th>8</th>\n",
       "      <td>-0.028221</td>\n",
       "      <td>-0.005330</td>\n",
       "      <td>-0.001164</td>\n",
       "      <td>-0.005241</td>\n",
       "      <td>-0.005841</td>\n",
       "      <td>-0.000778</td>\n",
       "      <td>-0.000615</td>\n",
       "      <td>0.000030</td>\n",
       "    </tr>\n",
       "    <tr>\n",
       "      <th>9</th>\n",
       "      <td>-0.022848</td>\n",
       "      <td>-0.002939</td>\n",
       "      <td>0.001696</td>\n",
       "      <td>-0.005638</td>\n",
       "      <td>0.033981</td>\n",
       "      <td>0.000764</td>\n",
       "      <td>-0.001663</td>\n",
       "      <td>0.000104</td>\n",
       "    </tr>\n",
       "  </tbody>\n",
       "</table>\n",
       "</div>"
      ],
      "text/plain": [
       "         p0        p1        p2        p3        p4        p5        p6  \\\n",
       "0  0.008796  0.002173  0.000803  0.007672  0.005396  0.006325  0.000201   \n",
       "1 -0.026190 -0.002765 -0.002451 -0.030016 -0.001223  0.007419 -0.000904   \n",
       "2  0.001219 -0.001146 -0.000306  0.006611 -0.006043  0.005092 -0.001180   \n",
       "3 -0.017404 -0.004656 -0.000324 -0.010059 -0.009665  0.001995 -0.003114   \n",
       "4  0.023194 -0.001242 -0.001036  0.001236 -0.007206 -0.000158 -0.001667   \n",
       "5 -0.007601 -0.002478  0.003657 -0.003337  0.014472  0.001051  0.000242   \n",
       "6 -0.014136 -0.002593 -0.002446 -0.034145  0.012338  0.003910 -0.002475   \n",
       "7 -0.046035 -0.011065 -0.000670 -0.003784  0.020837  0.001795 -0.001695   \n",
       "8 -0.028221 -0.005330 -0.001164 -0.005241 -0.005841 -0.000778 -0.000615   \n",
       "9 -0.022848 -0.002939  0.001696 -0.005638  0.033981  0.000764 -0.001663   \n",
       "\n",
       "         p7  \n",
       "0  0.000000  \n",
       "1  0.000016  \n",
       "2  0.000356  \n",
       "3 -0.000153  \n",
       "4  0.000000  \n",
       "5  0.000000  \n",
       "6  0.000000  \n",
       "7  0.000174  \n",
       "8  0.000030  \n",
       "9  0.000104  "
      ]
     },
     "execution_count": 45,
     "metadata": {},
     "output_type": "execute_result"
    }
   ],
   "source": [
    "pbias"
   ]
  },
  {
   "cell_type": "code",
   "execution_count": 79,
   "metadata": {},
   "outputs": [
    {
     "name": "stdout",
     "output_type": "stream",
     "text": [
      "[0.60702869 0.22719804]\n"
     ]
    },
    {
     "data": {
      "text/plain": [
       "<matplotlib.axes._subplots.AxesSubplot at 0x7fe759fb2730>"
      ]
     },
     "execution_count": 79,
     "metadata": {},
     "output_type": "execute_result"
    },
    {
     "data": {
      "image/png": "[encoded data removed]",
      "text/plain": [
       "<Figure size 432x288 with 1 Axes>"
      ]
     },
     "metadata": {
      "needs_background": "light"
     },
     "output_type": "display_data"
    }
   ],
   "source": [
    "x_orig = pbias\n",
    "pca_orig = PCA(n_components=2).fit(x_orig)\n",
    "df_orig = pd.DataFrame(data=pca_orig.transform(x_orig),\n",
    "                       columns = ['pc1','pc2'])\n",
    "print(pca_orig.explained_variance_ratio_)\n",
    "df_orig.plot.scatter(x='pc1',y='pc2')"
   ]
  },
  {
   "cell_type": "code",
   "execution_count": 80,
   "metadata": {},
   "outputs": [
    {
     "name": "stdout",
     "output_type": "stream",
     "text": [
      "[0.31771352 0.24951141]\n"
     ]
    },
    {
     "data": {
      "text/plain": [
       "<matplotlib.axes._subplots.AxesSubplot at 0x7fe75a0f4ac0>"
      ]
     },
     "execution_count": 80,
     "metadata": {},
     "output_type": "execute_result"
    },
    {
     "data": {
      "image/png": "[encoded data removed]",
      "text/plain": [
       "<Figure size 432x288 with 1 Axes>"
      ]
     },
     "metadata": {
      "needs_background": "light"
     },
     "output_type": "display_data"
    }
   ],
   "source": [
    "x_scal = StandardScaler().fit_transform(pbias)\n",
    "pca_scal = PCA(n_components=2).fit(x_scal)\n",
    "df_scal = pd.DataFrame(data=pca_scal.transform(x_scal),\n",
    "                       columns = ['pc1','pc2'])\n",
    "print(pca_scal.explained_variance_ratio_)\n",
    "df_scal.plot.scatter(x='pc1',y='pc2')"
   ]
  },
  {
   "cell_type": "code",
   "execution_count": null,
   "metadata": {},
   "outputs": [],
   "source": []
  }
 ],
 "metadata": {
  "kernelspec": {
   "display_name": "Python 3",
   "language": "python",
   "name": "python3"
  },
  "language_info": {
   "codemirror_mode": {
    "name": "ipython",
    "version": 3
   },
   "file_extension": ".py",
   "mimetype": "text/x-python",
   "name": "python",
   "nbconvert_exporter": "python",
   "pygments_lexer": "ipython3",
   "version": "3.8.3"
  }
 },
 "nbformat": 4,
 "nbformat_minor": 4
}
